{
 "cells": [
  {
   "cell_type": "markdown",
   "id": "e69f876a-00d0-4776-9635-d365fd5d84d1",
   "metadata": {},
   "source": [
    "# <img src=\"img/ita_rgb.jpg\" style=\"width:200px;\"/>  FIS-32 - Eletricidade e Magnetismo  "
   ]
  },
  {
   "cell_type": "markdown",
   "id": "cf4b175c",
   "metadata": {},
   "source": [
    "***\n",
    "## Campo Elétrico de uma Distribuição Contínua de Carga\n",
    "***"
   ]
  },
  {
   "cell_type": "markdown",
   "id": "3d41bd72",
   "metadata": {},
   "source": [
    "#### **Objetivos:**"
   ]
  },
  {
   "cell_type": "markdown",
   "id": "260af190",
   "metadata": {},
   "source": [
    "-  Resolver analiticamente o campo elétrico produzido por uma superfície carregada com uma densidade de carga fornecida.\n",
    "-  Modelar computacionalmente o problema.\n",
    "-  Aprender a resolver uma integral usando a linguagem Python.\n",
    "-  Aprender a montar e visualizar um gráfico.\n",
    "-  Analisar o comportameno físico de forma interativa modificando os parâmetros do modelo."
   ]
  },
  {
   "cell_type": "markdown",
   "id": "ad23eeea",
   "metadata": {},
   "source": [
    "Vamos utilizar a definição do campo elétrico para obter o campo elétrico num ponto $\\vec{r}$. "
   ]
  },
  {
   "cell_type": "markdown",
   "id": "a63f399d",
   "metadata": {},
   "source": [
    "$$\n",
    "\\vec{E} (\\vec{r}) = \\frac{1}{4\\pi \\varepsilon_0} \\int \\frac{dq}{|\\vec{r}-\\vec{r^\\prime}|^{3}}(\\vec{r}-\\vec{r^\\prime})\n",
    "$$"
   ]
  },
  {
   "cell_type": "markdown",
   "id": "93418361",
   "metadata": {},
   "source": [
    "sendo:\n",
    "-  $\\vec E$ é o vetor campo elétrico no ponto desejado $\\vec r$;\n",
    "-  $\\varepsilon _0$ é a permissividade do vácuo;\n",
    "-  $dq$ é o elemento infinitesimal de carga, o qual é igual a $dq=\\lambda d\\ell$; $dq=\\sigma ds$ ou $dq = \\rho dv$, em que $\\lambda$, $\\sigma$ e $\\rho$ são as densidades de carga, linear, superficial e volumétrica, respectivamente; e $d\\ell$, $ds$ e $dv$ são os elementos infinitesimais de comprimento, superfície e volume, respectivamente;\n",
    "-  $\\vec r^\\prime$ é o vetor da origem até o elemento infinitesimal de carga $dq$;\n",
    "-  $\\vec{r}-\\vec{r^\\prime}$ é o vetor que vai da fonte de carga ao ponto onde queremos calcular o campo;\n",
    "    "
   ]
  },
  {
   "cell_type": "markdown",
   "id": "1d733e46-93bc-46f2-9ead-b7e3352cec2d",
   "metadata": {},
   "source": [
    "----------------\n",
    "### **Exemplo 1:** Campo elétrico de uma barra\n",
    "\n",
    "Vamos obter o campo elétrico para uma barra de espessura desprezível, situada no eixo $x$ de $-L/2$ a $L/2$, uniformemente carregada com densidade de carga linear $\\lambda$ constante, num ponto, P, do eixo $y$, $E(y)$, conforme ilustra a figura."
   ]
  },
  {
   "cell_type": "markdown",
   "id": "7ada4cce-b327-44c2-a435-65a42a6e2077",
   "metadata": {},
   "source": [
    "<center><img src=img/Barra_01.jpeg ></center>"
   ]
  },
  {
   "cell_type": "code",
   "execution_count": 180,
   "id": "33dd86a9-4a22-4857-868a-2c8d4d448f48",
   "metadata": {},
   "outputs": [
    {
     "name": "stdout",
     "output_type": "stream",
     "text": [
      "A componente x do campo é: \n",
      "0\n",
      "A componente y do campo é: \n"
     ]
    },
    {
     "data": {
      "text/latex": [
       "$\\displaystyle \\frac{0.564189583547756 \\sqrt{\\pi} L k_{0} lam}{y^{2.0} \\sqrt{\\frac{L^{2}}{4 y^{2}} + 1}}$"
      ],
      "text/plain": [
       "0.564189583547756*sqrt(pi)*L*k0*lam/(y**2.0*sqrt(L**2/(4*y**2) + 1))"
      ]
     },
     "execution_count": 180,
     "metadata": {},
     "output_type": "execute_result"
    }
   ],
   "source": [
    "import numpy as np   #importando a biblioteca numpy\n",
    "import sympy as sp   #importando a biblioteca numpy\n",
    "import math\n",
    "from sympy import Array\n",
    "from sympy import * \n",
    "\n",
    "\n",
    "k0, lam, x, y, L = sp.symbols('k0, lam, x, y, L')   #definindo os símbolos, obs: lam = densidade de carga lambda\n",
    "\n",
    "#r0 = (x,y,z); rq = r' e r0-rq= r-r' \n",
    "\n",
    "vecrl=x*Array([1,0])     #vetor: rlinha = rl\n",
    "r0=y*Array([0,1])        #vetor r (ponto onde queremos calcular o campo\n",
    "r=r0-vecrl               #vetor (r-rlinha) = vetor que vai da fonte até o ponto onde queremos calcular\n",
    "rx = r[0]\n",
    "ry = r[1]\n",
    "\n",
    "dq = lam                 # OBS: dx não aparece aqui, será definido quando integrarmos\n",
    "\n",
    "dE=k0*dq/(rx**2+ry**2) \n",
    "dEx = dE*rx/(rx**2+ry**2)**(0.5)   #componente x do campo a ser integrada\n",
    "dEy = dE*ry/(rx**2+ry**2)**(0.5)   #componente y do campo a ser integrada\n",
    " \n",
    "    \n",
    "Ex = sp.integrate(dEx,(x,-L/2,L/2))  #integrando a componente x do campo, ao longo da barra: x variando de -L/2 a L/2\n",
    "Ey = sp.integrate(dEy,(x,-L/2,L/2))  #integrando a componente y do campo, ao longo da barra: x variando de -L/2 a L/2\n",
    "\n",
    "\n",
    "print('A componente x do campo é: ')\n",
    "print(Ex)\n",
    "print('A componente y do campo é: ')\n",
    "sp.integrate(dEy,(x,-L/2,L/2))\n",
    "\n",
    "\n"
   ]
  },
  {
   "cell_type": "markdown",
   "id": "64744e35-beac-4f3b-8d00-2f4826475b96",
   "metadata": {},
   "source": [
    "Note que 0.5641*$\\sqrt{\\pi}$ é igual a 1. "
   ]
  },
  {
   "cell_type": "markdown",
   "id": "02b03d2e-2a50-46cd-a15c-f8c3022e6bee",
   "metadata": {},
   "source": [
    "### **Agora vamos fazer um gráfico de $E(y)$:**"
   ]
  },
  {
   "cell_type": "code",
   "execution_count": 182,
   "id": "c337396a-9e8f-4995-b651-70c75e2b1af9",
   "metadata": {},
   "outputs": [
    {
     "data": {
      "application/vnd.jupyter.widget-view+json": {
       "model_id": "1bc06877c7b84c36bc7e99b408d03893",
       "version_major": 2,
       "version_minor": 0
      },
      "text/plain": [
       "interactive(children=(IntSlider(value=1, description='L', max=10, min=1), FloatSlider(value=1.0, description='…"
      ]
     },
     "metadata": {},
     "output_type": "display_data"
    }
   ],
   "source": [
    "import numpy as np   #importando a biblioteca numpy\n",
    "import sympy as sp   #importando a biblioteca numpy\n",
    "import math\n",
    "from sympy import Array\n",
    "from sympy import * \n",
    "\n",
    "import matplotlib.pyplot as plt   #importando a biblioteca matplotlib para fazer gráficos\n",
    "import ipywidgets as widgets\n",
    "from ipywidgets import interact\n",
    "\n",
    "# Vamos atribuir valores para as nossas constantes:\n",
    "\n",
    "k0 = 9e9\n",
    "\n",
    "def E(y,lam,L,pi,k0):\n",
    "    \n",
    "    x = symbols('x')\n",
    "    \n",
    "    vecrl=x*Array([1,0]) #vetor: rlinha = rl\n",
    "    r0=y*Array([0,1])\n",
    "    r=r0-vecrl\n",
    "    rx = r[0]\n",
    "    ry = r[1]\n",
    "\n",
    "    dq = lam # dx não aparece aqui, será definido quando integrarmos\n",
    "    dE=k0*dq/(rx**2+ry**2) \n",
    "    dEx = dE*rx/(rx**2+ry**2)**(0.5)\n",
    "    dEy = dE*ry/(rx**2+ry**2)**(0.5)\n",
    "     \n",
    "    \n",
    "    Ex = sp.integrate(dEx,(x,-L/2,L/2))\n",
    "    Ey = sp.integrate(dEy,(x,-L/2,L/2))\n",
    "\n",
    "    return Ey\n",
    "\n",
    "@interact(L=(1,10,1),lam=(1,10,0.5))\n",
    "def plot(L=1,lam=1): \n",
    "    \n",
    "    y = sp.symbols('y')\n",
    "    escala=1e-10  # escala para a densidade de carga     \n",
    "    pi = math.pi\n",
    "    lamb = escala*lam\n",
    "    expr1 = E(y,lamb,L,pi,k0)\n",
    "    \n",
    "    #Vamos incluir o campo da carga pontual de carga = carga da barra para comparação:\n",
    "    \n",
    "    expr3 = k0*L*lamb/y**2 #carga pontual\n",
    "\n",
    "    p1 = sp.plot(expr1,(y,0.1,30),adaptive=False, legend=True, label='Barra', line_color='blue', nb_of_points=400, show=False, ylabel ='Campo Elétrico (N/C)', xlabel ='Distância à barra y (m)')\n",
    "    p3 = sp.plot(expr3,(y,1,30),adaptive=False, nb_of_points=400, line_color='red', linestyle = 'dashed', show=False, legend=True, label='Carga pontual',)\n",
    "    p1.append(p3[0])\n",
    "    p1.show()\n",
    "    \n",
    "\n",
    "    \n",
    "    \n"
   ]
  },
  {
   "cell_type": "markdown",
   "id": "2a56458c-0690-4276-9175-70a6b47de854",
   "metadata": {},
   "source": [
    "**Questões:**\n",
    "\n",
    "-   Quando a distância da barra ao ponto $P$ aumenta, qual o comportamento observado?\n",
    "-   Comparando-se o comportamento do campo da barra e da carga pontual com $Q=$ carga da barra, quando $L$ aumenta o que se observa? Explique.\n",
    "-   explique o comportamento quando a densidade de carga aumenta."
   ]
  },
  {
   "cell_type": "markdown",
   "id": "c193024a-aba4-40a7-9cf4-a7e3690b8509",
   "metadata": {},
   "source": [
    "### **Analisando a magnitude do campo**\n",
    "#### variando a densidade de carga $\\lambda$, a distância à barra $y$ e o comprimento da barra $L$:"
   ]
  },
  {
   "cell_type": "code",
   "execution_count": 181,
   "id": "b3cfa28a-1543-4e3c-b330-ff9eb18dfd9c",
   "metadata": {},
   "outputs": [
    {
     "data": {
      "application/vnd.jupyter.widget-view+json": {
       "model_id": "463b8e21fa6e422a95019c50f4c84622",
       "version_major": 2,
       "version_minor": 0
      },
      "text/plain": [
       "interactive(children=(FloatSlider(value=1.0, description='lam', max=10.0, min=1.0, step=0.5), FloatSlider(valu…"
      ]
     },
     "metadata": {},
     "output_type": "display_data"
    }
   ],
   "source": [
    "import numpy as np   #importando a biblioteca numpy\n",
    "import sympy as sp   #importando a biblioteca numpy\n",
    "import math\n",
    "from sympy import Array\n",
    "from sympy import * \n",
    "from numpy import *\n",
    "import matplotlib.pyplot as plt   #importando a biblioteca matplotlib para fazer gráficos\n",
    "import ipywidgets as widgets\n",
    "from ipywidgets import interact\n",
    "\n",
    "# Vamos atribuir valores para as nossas constantes:\n",
    "\n",
    "k0 = 9e9\n",
    "\n",
    "#tornando lambda, y e L iterativos\n",
    "\n",
    "@interact(lam=(1,10,0.5),y=(0.5,20.0,0.5),L=(1.0,20.0,1.0))\n",
    "def plot(lam=1,y=1.0,L=2.0):\n",
    "\n",
    "    x = 0            \n",
    "    escala=1e-10 # escala para a densidade de carga\n",
    "    Ey = escala*(L*k0*lam)/(y*(((L**2)/4)+y**2)**(0.5))\n",
    "    print('Magnitude do campo elétrico (N/C): ', format(Ey,'.3g')) #formatado para 3 números significativos  \n"
   ]
  },
  {
   "cell_type": "markdown",
   "id": "516bbd18-66a3-49ee-aecf-9c43eb3bbd88",
   "metadata": {},
   "source": [
    "**Questões:**\n",
    "\n",
    "-   Quando a distância da barra ao ponto $P$ aumenta, qual o comportamento observado do vetor campo elétrico?\n",
    "-   Quando $L$ aumenta qual o comportamento observado? Isso é razoável?\n",
    "-   Quando a densidade de carga aumenta o campo chega a algum limite? Explique."
   ]
  },
  {
   "cell_type": "markdown",
   "id": "eb6b5d7e-444a-4114-96ea-96d13383bf95",
   "metadata": {},
   "source": [
    "-------------------\n",
    "\n",
    "### **Exercício 1:** Continuando o exemplo 1\n",
    "\n",
    "Represente no sistema de coordenadas xy, a posição da barra e o vetor campo elétrico num ponto do eixo y. Deixe o y de forma iterativa a fim de analisar o seu comportamento. "
   ]
  },
  {
   "cell_type": "code",
   "execution_count": null,
   "id": "602a7410-c9eb-400b-818f-9a1f7f239a43",
   "metadata": {},
   "outputs": [],
   "source": []
  },
  {
   "cell_type": "markdown",
   "id": "a100a100-b1aa-4247-a911-a7b269842ed6",
   "metadata": {},
   "source": [
    "----------------------"
   ]
  },
  {
   "cell_type": "markdown",
   "id": "7e2b9bbb",
   "metadata": {},
   "source": [
    "### **Exemplo 2:** Casca esférica com densidade superficial não uniforme\n",
    "\n",
    "Agora vamos resolver o seguinte exercício. Uma superfície hemisférica de raio $R$ possui uma densidade de carga superficial $\\sigma = \\sigma_0 sen(\\theta)$, determine o vetor campo magnético no ponto $P$ indicado na figura a seguir."
   ]
  },
  {
   "cell_type": "markdown",
   "id": "1b7d4e01-3909-4f3d-8f3e-ec3e3c90c193",
   "metadata": {},
   "source": [
    "<center><img src=img/fig1.jpg style=\"width:200px;\"/> </center>"
   ]
  },
  {
   "cell_type": "markdown",
   "id": "641bf60a",
   "metadata": {},
   "source": [
    "Durante a aula deduzimos analiticamente a expressão para a determinação do campo produzido por esta distribuição de carga e obtivemos:"
   ]
  },
  {
   "cell_type": "markdown",
   "id": "5bcf72d9",
   "metadata": {},
   "source": [
    "$$\n",
    " \\vec E = \\frac{k_0 2 \\pi \\sigma_0}{3} =\\frac{\\sigma _0 }{6 \\varepsilon_0} \\hat k\n",
    "$$"
   ]
  },
  {
   "cell_type": "markdown",
   "id": "1ea04808",
   "metadata": {},
   "source": [
    "Para modelar e obter essa expressão computacionalmente, vamos importar a biblioteca sympy:"
   ]
  },
  {
   "cell_type": "code",
   "execution_count": 1,
   "id": "ab569bde-c2f4-4157-bc14-9775afc0a8ae",
   "metadata": {},
   "outputs": [],
   "source": [
    "import sympy as sp"
   ]
  },
  {
   "cell_type": "markdown",
   "id": "fb810e71-9478-4cd4-ab8e-cfb0de4722be",
   "metadata": {},
   "source": [
    "Definindo os simbolos"
   ]
  },
  {
   "cell_type": "code",
   "execution_count": 2,
   "id": "fe870ccd-1f93-4014-9c29-7f01d828dee5",
   "metadata": {},
   "outputs": [],
   "source": [
    "theta, sigma0, R, phi, k0 = sp.symbols('theta, sigma0, R, phi, k0')"
   ]
  },
  {
   "cell_type": "markdown",
   "id": "133d9547-b58e-460d-9d0a-f84c5d521ff7",
   "metadata": {},
   "source": [
    "Fornecendo a expressão para a densidade de carga $\\sigma = \\sigma_0 sen(\\alpha)$"
   ]
  },
  {
   "cell_type": "code",
   "execution_count": 3,
   "id": "0f03ecb7-d20e-45d6-8f74-7a83dcb945bd",
   "metadata": {},
   "outputs": [],
   "source": [
    "sigma = sigma0*sp.sin(theta) "
   ]
  },
  {
   "cell_type": "markdown",
   "id": "96d15104-428f-4914-a5dc-c8770a9f3fdc",
   "metadata": {},
   "source": [
    "Definindo a expressão para o integrando"
   ]
  },
  {
   "cell_type": "code",
   "execution_count": 4,
   "id": "6fa22bdd-1d7b-4ac4-b073-c833722f0102",
   "metadata": {},
   "outputs": [],
   "source": [
    "f=-k0*sigma*(R**2)*sp.sin(theta)*sp.cos(theta)/(R**2)"
   ]
  },
  {
   "cell_type": "markdown",
   "id": "d4e548bd-ca5f-40d2-b4e1-495bc643b7bc",
   "metadata": {},
   "source": [
    "Pedindo para integrar considerando os limites de integração para $\\theta:[\\pi/2,\\pi]$ e $\\phi:[0,2\\pi]$"
   ]
  },
  {
   "cell_type": "code",
   "execution_count": 5,
   "id": "01c2d9e1-4857-4aaa-8ee1-e3864088ccd4",
   "metadata": {},
   "outputs": [
    {
     "data": {
      "text/latex": [
       "$\\displaystyle \\frac{2 \\pi k_{0} \\sigma_{0}}{3}$"
      ],
      "text/plain": [
       "2*pi*k0*sigma0/3"
      ]
     },
     "execution_count": 5,
     "metadata": {},
     "output_type": "execute_result"
    }
   ],
   "source": [
    "sp.integrate(f,(theta,sp.pi/2,sp.pi),(phi,0,2*sp.pi))"
   ]
  },
  {
   "cell_type": "markdown",
   "id": "0dbb11ae-dc33-40fc-9122-85424a6462e3",
   "metadata": {},
   "source": [
    "---------------\n",
    "\n",
    "### **Exercício 2:** continuando o exemplo 2\n",
    "\n",
    "Agora que você aprendeu a modelar esse problema, construa um código que mostre os vetores do campo elétrico em qualquer ponto do eixo $z$. E faça um gráfico de $E(z)$.\n"
   ]
  },
  {
   "cell_type": "code",
   "execution_count": null,
   "id": "9b3d0698-fa9b-490b-80df-62ee8b2d6582",
   "metadata": {},
   "outputs": [],
   "source": []
  },
  {
   "cell_type": "markdown",
   "id": "8c3e3336",
   "metadata": {},
   "source": [
    "**Questões:**\n",
    "\n",
    "-   Quando a distância da calota semi-esférica ao ponto $P$ aumenta, qual o comportamento observado do vetor campo elétrico?\n",
    "-   O campo elétrico é contínuo ou descontínuo na superfície carregada? Se for decontínuo, qual é o valor?"
   ]
  },
  {
   "cell_type": "code",
   "execution_count": null,
   "id": "570dca6b",
   "metadata": {},
   "outputs": [],
   "source": []
  }
 ],
 "metadata": {
  "kernelspec": {
   "display_name": "Python 3 (ipykernel)",
   "language": "python",
   "name": "python3"
  },
  "language_info": {
   "codemirror_mode": {
    "name": "ipython",
    "version": 3
   },
   "file_extension": ".py",
   "mimetype": "text/x-python",
   "name": "python",
   "nbconvert_exporter": "python",
   "pygments_lexer": "ipython3",
   "version": "3.9.13"
  }
 },
 "nbformat": 4,
 "nbformat_minor": 5
}
